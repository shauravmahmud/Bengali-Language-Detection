{
 "cells": [
  {
   "cell_type": "code",
   "execution_count": 1,
   "metadata": {},
   "outputs": [],
   "source": [
    "import cv2\n",
    "import pytesseract\n",
    "import re\n",
    "import numpy as np\n",
    "from pytesseract import Output"
   ]
  },
  {
   "cell_type": "code",
   "execution_count": 2,
   "metadata": {},
   "outputs": [],
   "source": [
    "img = cv2.imread('/home/abacus/Downloads/prizeb.jpg')\n",
    "\n",
    "#cv2.imshow('',img)\n",
    "cv2.waitKey(0)\n",
    "cv2.destroyAllWindows()"
   ]
  },
  {
   "cell_type": "code",
   "execution_count": 3,
   "metadata": {},
   "outputs": [],
   "source": [
    "#gray = cv2.cvtColor(img, cv2.COLOR_RGB2GRAY)\n",
    "#gray, img_bin = cv2.threshold(gray,128,255,cv2.THRESH_BINARY | cv2.THRESH_OTSU)\n",
    "#gray = cv2.bitwise_not(img_bin)\n",
    "\n",
    "#cv2.imshow('Gray',gray)\n",
    "#cv2.waitKey(0)\n",
    "#cv2.destroyAllWindows()"
   ]
  },
  {
   "cell_type": "code",
   "execution_count": 4,
   "metadata": {},
   "outputs": [
    {
     "name": "stdout",
     "output_type": "stream",
     "text": [
      "ক ঙ৬০৬৩৬৭৬৭\n",
      "এতদ্1রা গণপ্রজাতন্ত্রী বাংলাদেশের রাষ্ট্রপতি অঙ্গীকার\n",
      "করিতেছেন যে, এষ্ট বের বাহককে বাংলাদেশ ব্যাংকের\n",
      "\n",
      "যে কোন অফিস | শাখা অথবা ইহার অনুমোদিত থে\n",
      "কোন ব্যাংকের শাখা অথবা ডাকঘর / সঞ্চয় অফিস হইতে\n",
      "\n",
      "চাহিবা মাত্র মোট একশত টাকা প্রদান করা হ্ষ্ইবে।\n",
      "বাংলাদেশ সরকার কর্তৃক প্রণীত বিধি অনুযায়ী সময়ে সময়ে\n",
      "\n",
      "2 ) ক 1% টি রা ] চ ঠা ঢ 1 . রা রঃ ৃ\n",
      "151 121707/7 71177817144 4 87211 ৮৫:77:77, ৫ 0১4৮1 1 পপ 22৫ /2% 2 / 1\n",
      "\n",
      "রাতটা\n",
      "\n",
      " \n",
      "\n",
      " \n",
      "\f",
      "\n"
     ]
    }
   ],
   "source": [
    "kernel = np.ones((2, 1), np.uint8)\n",
    "img = cv2.erode(img, kernel, iterations=1)\n",
    "img = cv2.dilate(img, kernel, iterations=1)\n",
    "out_below = pytesseract.image_to_string(img,lang=\"ben\")\n",
    "print (out_below)"
   ]
  },
  {
   "cell_type": "code",
   "execution_count": 5,
   "metadata": {},
   "outputs": [],
   "source": [
    "image_scaled = cv2.resize(img, None, fx=0.35, fy=0.35)\n",
    "\n",
    "h, w, c = image_scaled.shape\n",
    "boxes = pytesseract.image_to_boxes(image_scaled) \n",
    "for b in boxes.splitlines():\n",
    "    b = b.split(' ')\n",
    "    img = cv2.rectangle(image_scaled, (int(b[1]), h - int(b[2])), (int(b[3]), h - int(b[4])), (0, 255, 0), 2)"
   ]
  },
  {
   "cell_type": "code",
   "execution_count": 6,
   "metadata": {},
   "outputs": [
    {
     "name": "stdout",
     "output_type": "stream",
     "text": [
      "dict_keys(['level', 'page_num', 'block_num', 'par_num', 'line_num', 'word_num', 'left', 'top', 'width', 'height', 'conf', 'text'])\n"
     ]
    }
   ],
   "source": [
    "d = pytesseract.image_to_data(img, output_type=Output.DICT,lang=\"ben\")\n",
    "print(d.keys())"
   ]
  },
  {
   "cell_type": "code",
   "execution_count": 7,
   "metadata": {},
   "outputs": [],
   "source": [
    "#n_boxes = len(d['text'])\n",
    "#for i in range(n_boxes):\n",
    " #   if int(d['conf'][i]) > 60:\n",
    "  #      (x, y, w, h) = (d['left'][i], d['top'][i], d['width'][i], d['height'][i])\n",
    "   #     img = cv2.rectangle(img, (x, y), (x + w, y + h), (0, 255, 0), 2)\n",
    "\n",
    "#cv2.imshow('img', img)\n",
    "#cv2.waitKey(0)"
   ]
  },
  {
   "cell_type": "code",
   "execution_count": 8,
   "metadata": {},
   "outputs": [],
   "source": [
    "#import sys"
   ]
  },
  {
   "cell_type": "code",
   "execution_count": 9,
   "metadata": {},
   "outputs": [],
   "source": [
    "#pattern=re.compile(\"\\d{8}\",re.UNICODE)\n",
    "#for line in sys.stdin.read().splitlines():\n",
    " #      print (line.replace(\"\",\"\"))\n",
    "  #      break"
   ]
  },
  {
   "cell_type": "code",
   "execution_count": null,
   "metadata": {},
   "outputs": [],
   "source": []
  },
  {
   "cell_type": "code",
   "execution_count": null,
   "metadata": {},
   "outputs": [],
   "source": []
  }
 ],
 "metadata": {
  "kernelspec": {
   "display_name": "Python 3",
   "language": "python",
   "name": "python3"
  },
  "language_info": {
   "codemirror_mode": {
    "name": "ipython",
    "version": 3
   },
   "file_extension": ".py",
   "mimetype": "text/x-python",
   "name": "python",
   "nbconvert_exporter": "python",
   "pygments_lexer": "ipython3",
   "version": "3.8.3"
  }
 },
 "nbformat": 4,
 "nbformat_minor": 4
}
